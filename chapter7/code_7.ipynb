{
  "nbformat": 4,
  "nbformat_minor": 0,
  "metadata": {
    "colab": {
      "provenance": []
    },
    "kernelspec": {
      "name": "python3",
      "display_name": "Python 3"
    },
    "language_info": {
      "name": "python"
    }
  },
  "cells": [
    {
      "cell_type": "markdown",
      "source": [
        "7-8"
      ],
      "metadata": {
        "id": "7lxHKaoq15PR"
      }
    },
    {
      "cell_type": "code",
      "execution_count": 1,
      "metadata": {
        "colab": {
          "base_uri": "https://localhost:8080/"
        },
        "id": "R4hBkl_bbLXc",
        "outputId": "e16f1347-3ff1-487b-de94-0b6b30c3a9f5"
      },
      "outputs": [
        {
          "output_type": "stream",
          "name": "stderr",
          "text": [
            "/usr/local/lib/python3.10/dist-packages/sklearn/datasets/_openml.py:1022: FutureWarning: The default value of `parser` will change from `'liac-arff'` to `'auto'` in 1.4. You can set `parser='auto'` to silence this warning. Therefore, an `ImportError` will be raised from 1.4 if the dataset is dense and pandas is not installed. Note that the pandas parser may return different data types. See the Notes Section in fetch_openml's API doc for details.\n",
            "  warn(\n"
          ]
        }
      ],
      "source": [
        "import numpy as np\n",
        "from sklearn.datasets import fetch_openml\n",
        "mnist = fetch_openml(\"mnist_784\", version = 1, cache=True, as_frame=False)  #pandasのデータフレームにならないように設定\n",
        "X, y = mnist[\"data\"], mnist[\"target\"]\n",
        "X_train, X_valid, X_test, y_train, y_valid, y_test = X[:50000], X[50000:60000], X[60000:], y[:50000], y[50000:60000], y[60000:]"
      ]
    },
    {
      "cell_type": "code",
      "source": [
        "#ハード投票\n",
        "from sklearn.ensemble import VotingClassifier\n",
        "from sklearn.ensemble import ExtraTreesClassifier\n",
        "from sklearn.ensemble import RandomForestClassifier\n",
        "from sklearn.svm import SVC\n",
        "from sklearn.metrics import accuracy_score\n",
        "\n",
        "ext_clf = ExtraTreesClassifier()\n",
        "rnd_clf = RandomForestClassifier()\n",
        "svm_clf = SVC()\n",
        "\n",
        "hard_voting_clf = VotingClassifier(\n",
        "    estimators=[(\"ext\", ext_clf), (\"rf\", rnd_clf), (\"svc\", svm_clf)],\n",
        "    voting=\"hard\"\n",
        ")\n",
        "\n",
        "print(\"検証セットでの各々の正解率は以下。\")\n",
        "for clf in (ext_clf, rnd_clf, svm_clf, hard_voting_clf):\n",
        "    clf.fit(X_train, y_train)\n",
        "    y_pred_valid = clf.predict(X_valid)\n",
        "    print(clf.__class__.__name__, accuracy_score(y_valid, y_pred_valid))\n",
        "\n",
        "hard_voting_clf.fit(X_train, y_train)\n",
        "y_pred_test = hard_voting_clf.predict(X_test)\n",
        "print(f\"ハード投票分類器の正解率は{accuracy_score(y_test, y_pred_test)}\")\n"
      ],
      "metadata": {
        "id": "6qHaSjNHiSuu",
        "colab": {
          "base_uri": "https://localhost:8080/"
        },
        "outputId": "24622a83-0a8f-46a5-8788-8db89b02f222"
      },
      "execution_count": 2,
      "outputs": [
        {
          "output_type": "stream",
          "name": "stdout",
          "text": [
            "検証セットでの各々の正解率は以下。\n",
            "ExtraTreesClassifier 0.9738\n",
            "RandomForestClassifier 0.972\n",
            "SVC 0.9802\n",
            "VotingClassifier 0.9778\n",
            "ハード投票分類器の正解率は0.9728\n"
          ]
        }
      ]
    },
    {
      "cell_type": "code",
      "source": [
        "#ソフト投票\n",
        "from sklearn.ensemble import VotingClassifier\n",
        "from sklearn.ensemble import ExtraTreesClassifier\n",
        "from sklearn.ensemble import RandomForestClassifier\n",
        "from sklearn.svm import SVC\n",
        "from sklearn.metrics import accuracy_score\n",
        "\n",
        "ext_clf = ExtraTreesClassifier()\n",
        "rnd_clf = RandomForestClassifier()\n",
        "svm_clf = SVC(probability=True)\n",
        "\n",
        "soft_voting_clf = VotingClassifier(\n",
        "    estimators=[(\"ext\", ext_clf), (\"rf\", rnd_clf), (\"svc\", svm_clf)],\n",
        "    voting=\"soft\"\n",
        ")\n",
        "\n",
        "soft_voting_clf.fit(X_train, y_train)\n",
        "y_pred_valid = soft_voting_clf.predict(X_valid)\n",
        "print(f\"検証セットでの正解率は{accuracy_score(y_valid, y_pred_valid)}\")\n",
        "y_pred_test = soft_voting_clf.predict(X_test)\n",
        "print(f\"ソフト投票分類器の正解率は{accuracy_score(y_test, y_pred_test)}\")\n"
      ],
      "metadata": {
        "colab": {
          "base_uri": "https://localhost:8080/"
        },
        "id": "XWIpG7TXsnEZ",
        "outputId": "bdef778f-1d8a-4d94-822b-623992254d99"
      },
      "execution_count": 3,
      "outputs": [
        {
          "output_type": "stream",
          "name": "stdout",
          "text": [
            "検証セットでの正解率は0.9816\n",
            "ソフト投票分類器の正解率は0.9785\n"
          ]
        }
      ]
    },
    {
      "cell_type": "markdown",
      "source": [
        "7-9"
      ],
      "metadata": {
        "id": "Jan0DPtM19yA"
      }
    },
    {
      "cell_type": "code",
      "source": [
        "estimators = [ext_clf, rnd_clf, svm_clf]\n",
        "X_valid_predictions = np.empty((len(X_valid), len(estimators)), dtype=np.float32)\n",
        "\n",
        "ext_clf.fit(X_train, y_train)\n",
        "rnd_clf.fit(X_train, y_train)\n",
        "svm_clf.fit(X_train, y_train)\n",
        "X_valid_predictions[:, 0] = ext_clf.predict(X_valid)\n",
        "X_valid_predictions[:, 1] = rnd_clf.predict(X_valid)\n",
        "X_valid_predictions[:, 2] = svm_clf.predict(X_valid)\n",
        "rnd_forest_blender = RandomForestClassifier(n_estimators=200, oob_score=True, random_state=42)\n",
        "rnd_forest_blender.fit(X_valid_predictions, y_valid)\n",
        "rnd_forest_blender.oob_score_"
      ],
      "metadata": {
        "id": "SsPAFgSy3oGJ",
        "colab": {
          "base_uri": "https://localhost:8080/"
        },
        "outputId": "de5d6527-df0a-48f7-fb08-2f84c15f5f24"
      },
      "execution_count": 6,
      "outputs": [
        {
          "output_type": "execute_result",
          "data": {
            "text/plain": [
              "0.9783"
            ]
          },
          "metadata": {},
          "execution_count": 6
        }
      ]
    },
    {
      "cell_type": "code",
      "source": [
        "X_test_predictions = np.empty((len(X_test), len(estimators)), dtype=np.float32)\n",
        "\n",
        "for index, estimator in enumerate(estimators):\n",
        "    X_test_predictions[:, index] = estimator.predict(X_test)\n",
        "\n",
        "y_pred = rnd_forest_blender.predict(X_test_predictions)"
      ],
      "metadata": {
        "id": "qMHSm8yu3hnR"
      },
      "execution_count": 7,
      "outputs": []
    },
    {
      "cell_type": "code",
      "source": [
        "from sklearn.metrics import accuracy_score\n",
        "\n",
        "accuracy_score(y_test, y_pred)"
      ],
      "metadata": {
        "colab": {
          "base_uri": "https://localhost:8080/"
        },
        "id": "vPGQt8dg6H2u",
        "outputId": "8b6083ee-1374-4845-c45a-7c1f68d0a03a"
      },
      "execution_count": 8,
      "outputs": [
        {
          "output_type": "execute_result",
          "data": {
            "text/plain": [
              "0.9756"
            ]
          },
          "metadata": {},
          "execution_count": 8
        }
      ]
    }
  ]
}