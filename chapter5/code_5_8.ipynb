{
  "nbformat": 4,
  "nbformat_minor": 0,
  "metadata": {
    "colab": {
      "provenance": []
    },
    "kernelspec": {
      "name": "python3",
      "display_name": "Python 3"
    },
    "language_info": {
      "name": "python"
    }
  },
  "cells": [
    {
      "cell_type": "code",
      "source": [
        "!pip install mglearn"
      ],
      "metadata": {
        "id": "WyE-xJOScApO"
      },
      "execution_count": null,
      "outputs": []
    },
    {
      "cell_type": "code",
      "execution_count": null,
      "metadata": {
        "id": "0iuIW70XcZGr"
      },
      "outputs": [],
      "source": [
        "from sklearn import datasets\n",
        "import numpy as np\n",
        "from sklearn.pipeline import Pipeline\n",
        "from sklearn.preprocessing import StandardScaler\n",
        "from sklearn.svm import LinearSVC\n",
        "from sklearn.svm import SVC\n",
        "from sklearn.linear_model import SGDClassifier\n",
        "import matplotlib.pyplot as plt\n",
        "import mglearn\n",
        "iris = datasets.load_iris()\n",
        "X_all = iris['data'][:, 2:] #150インスタンス分の花弁の長さと花弁の幅を格納したnp.array\n",
        "y_all = iris['target'] #150インスタンス分の種類を示す整数を格納したnp.array。0:セトサ、1:バージニカ、2:バーシクル\n",
        "setosa_index = (np.where(y_all == 0))[0]  #戻り値がタプルなので、その中身のnp.arrayを取り出す\n",
        "versicolor_index = (np.where(y_all == 2))[0]\n",
        "index = np.concatenate((setosa_index, versicolor_index))\n",
        "X_list = []\n",
        "y_list = []\n",
        "for num in index:\n",
        "    X_list.append(X_all[num])\n",
        "    y_list.append(y_all[num])\n",
        "X = np.array(X_list)\n",
        "y = np.array(y_list)\n",
        "\n",
        "#可視化はhttps://qiita.com/renesisu727/items/964005bd29aa680ad82dを参考にした\n",
        "#セトサとバージニカのプロット\n",
        "mglearn.discrete_scatter(X[:, 0], X[:, 1], y)\n",
        "plt.legend(['setosa', 'versicolor'], loc='best')\n",
        "plt.show()"
      ]
    },
    {
      "cell_type": "code",
      "source": [
        "#LinearSVC用セル\n",
        "svm_clf1 = Pipeline([\n",
        "    (\"scaler\", StandardScaler()),\n",
        "    (\"linear_svc\", LinearSVC(C=1, loss=\"hinge\")),\n",
        "])\n",
        "\n",
        "svm_clf1.fit(X, y)\n",
        "\n",
        "\n",
        "#セトサとバージニカのプロットおよび決定境界の描画\n",
        "plt.figure(figsize=(10, 6))\n",
        "mglearn.plots.plot_2d_separator(svm_clf1, X)\n",
        "mglearn.discrete_scatter(X[:, 0], X[:, 1], y)\n",
        "plt.xlabel('petal length')\n",
        "plt.ylabel('petal width')\n",
        "plt.legend(['setosa', 'versicolor'], loc='best')\n",
        "plt.show()"
      ],
      "metadata": {
        "id": "0dCrvTHeenZg"
      },
      "execution_count": null,
      "outputs": []
    },
    {
      "cell_type": "code",
      "source": [
        "#SVC用セル\n",
        "svm_clf2 = Pipeline([\n",
        "    (\"scaler\", StandardScaler()),\n",
        "    (\"svc\", SVC(kernel = \"linear\", C=1)),\n",
        "])\n",
        "\n",
        "svm_clf2.fit(X, y)\n",
        "\n",
        "plt.figure(figsize=(10, 6))\n",
        "mglearn.plots.plot_2d_separator(svm_clf2, X)\n",
        "mglearn.discrete_scatter(X[:, 0], X[:, 1], y)\n",
        "plt.xlabel('petal length')\n",
        "plt.ylabel('petal width')\n",
        "plt.legend(['setosa', 'versicolor'], loc='best')\n",
        "plt.show()"
      ],
      "metadata": {
        "id": "IYJcOpZafVsh"
      },
      "execution_count": null,
      "outputs": []
    },
    {
      "cell_type": "code",
      "source": [
        "#SGDClassifier用セル\n",
        "m = len(X)  #mとCの値がテキストから読み取れなかった。mをインスタンス数、Cを勝手に1とした\n",
        "C = 1\n",
        "svm_clf3 = Pipeline([\n",
        "    (\"scaler\", StandardScaler()),\n",
        "    (\"sgd\", SGDClassifier(loss = \"hinge\", alpha = 1 / (m*C))),\n",
        "])\n",
        "\n",
        "svm_clf3.fit(X, y)\n",
        "\n",
        "plt.figure(figsize=(10, 6))\n",
        "mglearn.plots.plot_2d_separator(svm_clf3, X)\n",
        "mglearn.discrete_scatter(X[:, 0], X[:, 1], y)\n",
        "plt.xlabel('petal length')\n",
        "plt.ylabel('petal width')\n",
        "plt.legend(['setosa', 'versicolor'], loc='best')\n",
        "plt.show()"
      ],
      "metadata": {
        "id": "UURHJqmzhT6E"
      },
      "execution_count": null,
      "outputs": []
    }
  ]
}