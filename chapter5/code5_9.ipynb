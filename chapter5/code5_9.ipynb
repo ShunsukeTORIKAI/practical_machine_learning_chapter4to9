{
  "nbformat": 4,
  "nbformat_minor": 0,
  "metadata": {
    "colab": {
      "provenance": []
    },
    "kernelspec": {
      "name": "python3",
      "display_name": "Python 3"
    },
    "language_info": {
      "name": "python"
    }
  },
  "cells": [
    {
      "cell_type": "code",
      "execution_count": null,
      "metadata": {
        "colab": {
          "base_uri": "https://localhost:8080/"
        },
        "id": "MS6et5E-xKD-",
        "outputId": "1a578cc8-a757-4a09-dd65-a589ce820819"
      },
      "outputs": [
        {
          "output_type": "stream",
          "name": "stderr",
          "text": [
            "/usr/local/lib/python3.10/dist-packages/sklearn/datasets/_openml.py:1022: FutureWarning: The default value of `parser` will change from `'liac-arff'` to `'auto'` in 1.4. You can set `parser='auto'` to silence this warning. Therefore, an `ImportError` will be raised from 1.4 if the dataset is dense and pandas is not installed. Note that the pandas parser may return different data types. See the Notes Section in fetch_openml's API doc for details.\n",
            "  warn(\n"
          ]
        },
        {
          "output_type": "stream",
          "name": "stdout",
          "text": [
            "前の1万個の訓練セットでの適合率は以下\n",
            "0.9455333333333333\n",
            "Fitting 3 folds for each of 10 candidates, totalling 30 fits\n",
            "[CV] END ...C=8.830333241330653, gamma=0.0029989355648130604; total time=   0.3s\n",
            "[CV] END ...C=8.830333241330653, gamma=0.0029989355648130604; total time=   0.3s\n",
            "[CV] END ...C=8.830333241330653, gamma=0.0029989355648130604; total time=   0.3s\n",
            "[CV] END ....C=2.157770233098354, gamma=0.001336449248568823; total time=   0.2s\n",
            "[CV] END ....C=2.157770233098354, gamma=0.001336449248568823; total time=   0.2s\n",
            "[CV] END ....C=2.157770233098354, gamma=0.001336449248568823; total time=   0.2s\n",
            "[CV] END ......C=9.97668370814159, gamma=0.03461826756009813; total time=   0.3s\n",
            "[CV] END ......C=9.97668370814159, gamma=0.03461826756009813; total time=   0.3s\n",
            "[CV] END ......C=9.97668370814159, gamma=0.03461826756009813; total time=   0.3s\n",
            "[CV] END .....C=6.65356202920732, gamma=0.005815149260464785; total time=   0.3s\n",
            "[CV] END .....C=6.65356202920732, gamma=0.005815149260464785; total time=   0.3s\n",
            "[CV] END .....C=6.65356202920732, gamma=0.005815149260464785; total time=   0.3s\n",
            "[CV] END ...C=2.9628639023973573, gamma=0.002777794648780597; total time=   0.3s\n",
            "[CV] END ...C=2.9628639023973573, gamma=0.002777794648780597; total time=   0.3s\n",
            "[CV] END ...C=2.9628639023973573, gamma=0.002777794648780597; total time=   0.3s\n",
            "[CV] END .....C=4.578717129161401, gamma=0.03612052010659267; total time=   0.3s\n",
            "[CV] END .....C=4.578717129161401, gamma=0.03612052010659267; total time=   0.3s\n",
            "[CV] END .....C=4.578717129161401, gamma=0.03612052010659267; total time=   0.3s\n",
            "[CV] END ...C=4.618715905411941, gamma=0.0011279660116466817; total time=   0.2s\n",
            "[CV] END ...C=4.618715905411941, gamma=0.0011279660116466817; total time=   0.2s\n",
            "[CV] END ...C=4.618715905411941, gamma=0.0011279660116466817; total time=   0.2s\n",
            "[CV] END ....C=7.48158443704454, gamma=0.0032839256193080736; total time=   0.3s\n",
            "[CV] END ....C=7.48158443704454, gamma=0.0032839256193080736; total time=   0.3s\n",
            "[CV] END ....C=7.48158443704454, gamma=0.0032839256193080736; total time=   0.3s\n",
            "[CV] END ......C=7.791863022382194, gamma=0.0460900214749688; total time=   0.3s\n",
            "[CV] END ......C=7.791863022382194, gamma=0.0460900214749688; total time=   0.3s\n",
            "[CV] END ......C=7.791863022382194, gamma=0.0460900214749688; total time=   0.3s\n",
            "[CV] END ....C=3.1681562946532553, gamma=0.01659814211171429; total time=   0.3s\n",
            "[CV] END ....C=3.1681562946532553, gamma=0.01659814211171429; total time=   0.3s\n",
            "[CV] END ....C=3.1681562946532553, gamma=0.01659814211171429; total time=   0.4s\n",
            "訓練セット全体の適合率は以下\n",
            "0.9960333333333333\n",
            "テストセット全体の適合率は以下\n",
            "0.9729\n"
          ]
        }
      ],
      "source": [
        "import numpy as np\n",
        "from sklearn.datasets import fetch_openml\n",
        "from sklearn.svm import SVC\n",
        "from sklearn.preprocessing import StandardScaler\n",
        "from sklearn.metrics import accuracy_score\n",
        "from sklearn.model_selection import RandomizedSearchCV\n",
        "from scipy.stats import reciprocal, uniform\n",
        "mnist = fetch_openml(\"mnist_784\", version = 1, cache=True, as_frame=False)  #pandasのデータフレームにならないように設定\n",
        "X, y = mnist[\"data\"], mnist[\"target\"]\n",
        "X_train, X_test, y_train, y_test = X[:60000], X[60000:], y[:60000], y[60000:]\n",
        "scaler = StandardScaler()\n",
        "X_train_scaled = scaler.fit_transform(X_train.astype(np.float32))\n",
        "X_test_scaled = scaler.transform(X_test.astype(np.float32))\n",
        "svm_clf = SVC(gamma=\"scale\")\n",
        "svm_clf.fit(X_train_scaled[:10000], y_train[:10000])\n",
        "y_pred = svm_clf.predict(X_train_scaled)\n",
        "print(\"前の1万個の訓練セットでの適合率は以下\")\n",
        "print(accuracy_score(y_train, y_pred))\n",
        "param_distributions = {\"gamma\": reciprocal(0.001, 0.1), \"C\": uniform(1, 10)}\n",
        "rnd_search_cv = RandomizedSearchCV(svm_clf, param_distributions, n_iter=10, verbose=2, cv=3)\n",
        "rnd_search_cv.fit(X_train_scaled[:1000], y_train[:1000])\n",
        "rnd_search_cv.best_estimator_.fit(X_train_scaled, y_train)\n",
        "y_pred = rnd_search_cv.best_estimator_.predict(X_train_scaled)\n",
        "print(\"訓練セット全体の適合率は以下\")\n",
        "print(accuracy_score(y_train, y_pred))\n",
        "y_pred = rnd_search_cv.best_estimator_.predict(X_test_scaled)\n",
        "print(\"テストセット全体の適合率は以下\")\n",
        "print(accuracy_score(y_test, y_pred))\n"
      ]
    }
  ]
}