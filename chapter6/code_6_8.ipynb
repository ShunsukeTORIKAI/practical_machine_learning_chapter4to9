{
  "nbformat": 4,
  "nbformat_minor": 0,
  "metadata": {
    "colab": {
      "provenance": []
    },
    "kernelspec": {
      "name": "python3",
      "display_name": "Python 3"
    },
    "language_info": {
      "name": "python"
    }
  },
  "cells": [
    {
      "cell_type": "code",
      "execution_count": 1,
      "metadata": {
        "id": "NsIthE2pvn2D"
      },
      "outputs": [],
      "source": []
    },
    {
      "cell_type": "code",
      "execution_count": 2,
      "metadata": {
        "id": "qjUaodTqhBaG"
      },
      "outputs": [],
      "source": [
        "from sklearn.datasets import make_moons\n",
        "from sklearn.model_selection import train_test_split\n",
        "\n",
        "X, y = make_moons(n_samples=10000, noise=0.4)\n",
        "X_train, X_test, y_train, y_test = train_test_split(X, y, test_size=0.2, random_state=42)"
      ]
    },
    {
      "cell_type": "code",
      "source": [
        "from sklearn.model_selection import GridSearchCV\n",
        "from sklearn.tree import DecisionTreeClassifier\n",
        "param_grid = [\n",
        "    {\"max_leaf_nodes\": [4, 5, 6, 7, 10, 100, 1000], \"max_depth\": [1, 2, 3, 6, 9, 12]},\n",
        "]\n",
        "\n",
        "grid_search = GridSearchCV(DecisionTreeClassifier(), param_grid, cv = 3,\n",
        "                           scoring=\"neg_mean_squared_error\",\n",
        "                           return_train_score=True)\n",
        "\n",
        "grid_search.fit(X_train, y_train)\n",
        "print(grid_search.best_params_)"
      ],
      "metadata": {
        "colab": {
          "base_uri": "https://localhost:8080/"
        },
        "id": "JXcrRKVvnImW",
        "outputId": "d5182090-cb01-46e5-df9d-5624ffeaf6da"
      },
      "execution_count": 3,
      "outputs": [
        {
          "output_type": "stream",
          "name": "stdout",
          "text": [
            "{'max_depth': 2, 'max_leaf_nodes': 4}\n"
          ]
        }
      ]
    },
    {
      "cell_type": "code",
      "source": [
        "from sklearn.metrics import accuracy_score\n",
        "grid_search.best_estimator_.fit(X_train, y_train)\n",
        "y_pred = grid_search.best_estimator_.predict(X_test)\n",
        "print(accuracy_score(y_test, y_pred))"
      ],
      "metadata": {
        "colab": {
          "base_uri": "https://localhost:8080/"
        },
        "id": "FNcuZl0Mqh4F",
        "outputId": "43e3c08c-ffc3-4dc4-d324-2cb00114398d"
      },
      "execution_count": 4,
      "outputs": [
        {
          "output_type": "stream",
          "name": "stdout",
          "text": [
            "0.869\n"
          ]
        }
      ]
    },
    {
      "cell_type": "code",
      "source": [
        "from sklearn.model_selection import ShuffleSplit\n",
        "import numpy as np\n",
        "from scipy.stats import mode\n",
        "rs = ShuffleSplit(n_splits=1000, train_size=100, random_state=42)\n",
        "avg_accuracy = 0\n",
        "y_pred_arr = []\n",
        "for i, (train_index,_) in enumerate(rs.split(X_train)):\n",
        "    X_train_small_tree = X_train[train_index]\n",
        "    y_train_small_tree = y_train[train_index]\n",
        "    grid_search.best_estimator_.fit(X_train_small_tree, y_train_small_tree)\n",
        "    y_pred = grid_search.best_estimator_.predict(X_test)\n",
        "    y_pred_arr.append(y_pred)\n",
        "    avg_accuracy += accuracy_score(y_test, y_pred)\n",
        "y_pred_arr = np.array(y_pred_arr)\n",
        "avg_accuracy /= 1000\n",
        "print(f\"個々の決定木の平均正解率は{avg_accuracy}\")\n",
        "result = mode(y_pred_arr, axis=0)\n",
        "y_pred_all = result[0]\n",
        "print(f\"多数決での平均正解率は{accuracy_score(y_test, y_pred_all)}\")"
      ],
      "metadata": {
        "colab": {
          "base_uri": "https://localhost:8080/"
        },
        "id": "ARjTX_XY8bqs",
        "outputId": "58eb8e9e-399a-4ca6-fab3-5f2b96369e48"
      },
      "execution_count": 10,
      "outputs": [
        {
          "output_type": "stream",
          "name": "stdout",
          "text": [
            "個々の決定木の平均正解率は0.8330289999999997\n",
            "多数決での平均正解率は0.867\n"
          ]
        }
      ]
    }
  ]
}